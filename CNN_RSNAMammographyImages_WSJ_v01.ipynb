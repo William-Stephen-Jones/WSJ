{
  "nbformat": 4,
  "nbformat_minor": 0,
  "metadata": {
    "colab": {
      "provenance": [],
      "authorship_tag": "ABX9TyP2conKiS9BHdeMgYtbPLHY",
      "include_colab_link": true
    },
    "kernelspec": {
      "name": "python3",
      "display_name": "Python 3"
    },
    "language_info": {
      "name": "python"
    }
  },
  "cells": [
    {
      "cell_type": "markdown",
      "metadata": {
        "id": "view-in-github",
        "colab_type": "text"
      },
      "source": [
        "<a href=\"https://colab.research.google.com/github/William-Stephen-Jones/WSJ/blob/main/CNN_RSNAMammographyImages_WSJ_v01.ipynb\" target=\"_parent\"><img src=\"https://colab.research.google.com/assets/colab-badge.svg\" alt=\"Open In Colab\"/></a>"
      ]
    },
    {
      "cell_type": "markdown",
      "source": [
        "# Royal Society of North America (RSNA) Screening Mammography Breast Cancer Detection\n",
        "\n",
        "https://www.kaggle.com/competitions/rsna-breast-cancer-detection/data\n",
        "\n",
        "According to the WHO, breast cancer is the most commonly occurring cancer worldwide. In 2020 alone, there were 2.3 million new breast cancer diagnoses and 685,000 deaths. Yet breast cancer mortality in high-income countries has dropped by 40% since the 1980s when health authorities implemented regular mammography screening in age groups considered at risk. Early detection and treatment are critical to reducing cancer fatalities. Machine learning skills could help streamline the process radiologists use to evaluate screening mammograms.\n",
        "\n",
        "Currently, early detection of breast cancer requires the expertise of highly-trained human observers, making screening mammography programs expensive to conduct. A looming shortage of radiologists in several countries will likely worsen this problem. Mammography screening also leads to a high incidence of false positive results. This can result in unnecessary anxiety, inconvenient follow-up care, extra imaging tests, and sometimes a need for tissue sampling (often a needle biopsy)."
      ],
      "metadata": {
        "id": "DOSJCU4C3F8Z"
      }
    },
    {
      "cell_type": "markdown",
      "source": [
        "# Interesting Kaggle Notebooks on this topic:\n",
        "https://www.kaggle.com/code/andradaolteanu/rsna-breast-cancer-eda-pytorch-baseline/notebook\n",
        "\n",
        "https://github.com/Kaggle/kaggle-api\n",
        "\n",
        "\n",
        "look at this next:\n",
        "https://stackoverflow.com/questions/56816537/cant-find-kaggle-json-file-in-google-colab"
      ],
      "metadata": {
        "id": "jrY57WVz5D-0"
      }
    },
    {
      "cell_type": "markdown",
      "source": [
        "# The CODE"
      ],
      "metadata": {
        "id": "Z9iRoPbx8cMn"
      }
    },
    {
      "cell_type": "code",
      "execution_count": null,
      "metadata": {
        "id": "OzTwaanWKYY-"
      },
      "outputs": [],
      "source": [
        "!pip install kaggle\n",
        "\n",
        "import kaggle\n",
        "import json\n",
        "import os\n",
        "from kaggle.api.kaggle_api_extended import KaggleApi\n",
        "\n",
        "# Load Kaggle API credentials from the kaggle.json file\n",
        "with open('/Users/763345/Library/CloudStorage/OneDrive-hull.ac.uk/kaggle.json', 'r') as f:\n",
        "    credentials = json.load(f)\n",
        "\n",
        "# Set Kaggle API username and key\n",
        "os.environ['KAGGLE_USERNAME'] = credentials['username']\n",
        "os.environ['KAGGLE_KEY'] = credentials['key']\n",
        "\n",
        "# Create Kaggle API client\n",
        "api = KaggleApi()\n",
        "\n",
        "# Download the dataset to the current working directory\n",
        "api.dataset_download_files('rsna-breast-cancer-detection', path='./', unzip=True)\n",
        "\n"
      ]
    }
  ]
}